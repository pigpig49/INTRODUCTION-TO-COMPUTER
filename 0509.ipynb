{
  "nbformat": 4,
  "nbformat_minor": 0,
  "metadata": {
    "colab": {
      "name": "0509.ipynb",
      "provenance": [],
      "authorship_tag": "ABX9TyO7E4oqugMw55fwwD7MSbeI",
      "include_colab_link": true
    },
    "kernelspec": {
      "name": "python3",
      "display_name": "Python 3"
    },
    "language_info": {
      "name": "python"
    }
  },
  "cells": [
    {
      "cell_type": "markdown",
      "metadata": {
        "id": "view-in-github",
        "colab_type": "text"
      },
      "source": [
        "<a href=\"https://colab.research.google.com/github/pigpig49/INTRODUCTION-TO-COMPUTER/blob/main/0509.ipynb\" target=\"_parent\"><img src=\"https://colab.research.google.com/assets/colab-badge.svg\" alt=\"Open In Colab\"/></a>"
      ]
    },
    {
      "cell_type": "code",
      "execution_count": 34,
      "metadata": {
        "colab": {
          "base_uri": "https://localhost:8080/"
        },
        "id": "r9Rer5gB63qQ",
        "outputId": "764ab585-f468-44b3-a67e-1c612efedc9f"
      },
      "outputs": [
        {
          "output_type": "stream",
          "name": "stdout",
          "text": [
            "請輸入你的體溫37.5\n",
            "體溫過高\n"
          ]
        }
      ],
      "source": [
        "temp=float(input('請輸入你的體溫'))\n",
        "if (temp>=37.5):\n",
        "  print(\"體溫過高\")\n",
        "elif(temp>=37 and temp<37.4):\n",
        "  print(\"體溫略高!\")\n",
        "elif(temp>=34 and temp<=36.5):\n",
        "  print('體溫正常!')\n",
        "else:\n",
        "  print(\"體溫異常 請重新測量\")"
      ]
    },
    {
      "cell_type": "code",
      "source": [
        "temp=float(input('請輸入你的體溫'))\n",
        "if (temp>=37.5):\n",
        "  print(\"體溫過高\")\n",
        "elif(temp>=37 and temp<37.4):\n",
        "  print(\"體溫略高!\")\n",
        "elif(temp>=34 and temp<=36.5):\n",
        "  print('體溫正常!')\n",
        "else:\n",
        "  print(\"體溫異常 請重新測量\")"
      ],
      "metadata": {
        "colab": {
          "base_uri": "https://localhost:8080/"
        },
        "id": "tp_nndaMAPWE",
        "outputId": "8ebb8c21-749b-4744-fb26-75484b994776"
      },
      "execution_count": 33,
      "outputs": [
        {
          "output_type": "stream",
          "name": "stdout",
          "text": [
            "請輸入你的體溫37\n",
            "體溫略高!\n"
          ]
        }
      ]
    },
    {
      "cell_type": "code",
      "source": [
        "temp=float(input('請輸入你的體溫'))\n",
        "if (temp>=37.5):\n",
        "  print(\"體溫過高\")\n",
        "elif(temp>=37 and temp<37.4):\n",
        "  print(\"體溫略高!\")\n",
        "elif(temp>=34 and temp<=36.5):\n",
        "  print('體溫正常!')\n",
        "else:\n",
        "  print(\"體溫異常 請重新測量\")"
      ],
      "metadata": {
        "colab": {
          "base_uri": "https://localhost:8080/",
          "height": 0
        },
        "id": "At7yl1YsAPia",
        "outputId": "2f9460c6-5791-4625-fb0b-9fe2a17430e1"
      },
      "execution_count": 8,
      "outputs": [
        {
          "output_type": "stream",
          "name": "stdout",
          "text": [
            "請輸入你的體溫34\n",
            "體溫正常!\n"
          ]
        }
      ]
    },
    {
      "cell_type": "code",
      "source": [
        "temp=float(input('請輸入你的體溫'))\n",
        "if (temp>=37.5):\n",
        "  print(\"體溫過高\")\n",
        "elif(temp>=37 and temp<37.4):\n",
        "  print(\"體溫略高!\")\n",
        "elif(temp>=34 and temp<=36.5):\n",
        "  print('體溫正常!')\n",
        "else:\n",
        "  print(\"體溫異常 請重新測量\")"
      ],
      "metadata": {
        "colab": {
          "base_uri": "https://localhost:8080/",
          "height": 0
        },
        "id": "xgxUj7zMAQ5X",
        "outputId": "141dcd34-7509-4845-f58d-9e321fc9dc9f"
      },
      "execution_count": 9,
      "outputs": [
        {
          "output_type": "stream",
          "name": "stdout",
          "text": [
            "請輸入你的體溫30\n",
            "體溫異常 請重新測量\n"
          ]
        }
      ]
    },
    {
      "cell_type": "code",
      "source": [
        "score=int(input('請輸入成績'))\n",
        "if(score>=90):\n",
        "  print('A')\n",
        "elif(score>=80):\n",
        "  print('B')\n",
        "elif(score>=70):\n",
        "  print('C')\n",
        "elif(score>=60):\n",
        "  print('D')\n",
        "else:\n",
        "  print('E')"
      ],
      "metadata": {
        "colab": {
          "base_uri": "https://localhost:8080/",
          "height": 0
        },
        "id": "bPdRrnEhAzsC",
        "outputId": "86588143-8e76-47a0-f528-d1f0fd79e39b"
      },
      "execution_count": 10,
      "outputs": [
        {
          "output_type": "stream",
          "name": "stdout",
          "text": [
            "請輸入成績100\n",
            "A\n"
          ]
        }
      ]
    },
    {
      "cell_type": "code",
      "source": [
        "score=int(input('請輸入成績'))\n",
        "if(score>=90):\n",
        "  print('A')\n",
        "elif(score>=80):\n",
        "  print('B')\n",
        "elif(score>=70):\n",
        "  print('C')\n",
        "elif(score>=60):\n",
        "  print('D')\n",
        "else:\n",
        "  print('E')"
      ],
      "metadata": {
        "colab": {
          "base_uri": "https://localhost:8080/",
          "height": 0
        },
        "id": "9TKmR-AiAz1I",
        "outputId": "9e611027-6b41-4d22-82c1-ff05b4da3862"
      },
      "execution_count": 11,
      "outputs": [
        {
          "output_type": "stream",
          "name": "stdout",
          "text": [
            "請輸入成績80\n",
            "B\n"
          ]
        }
      ]
    },
    {
      "cell_type": "code",
      "source": [
        "score=int(input('請輸入成績'))\n",
        "if(score>=90):\n",
        "  print('A')\n",
        "elif(score>=80):\n",
        "  print('B')\n",
        "elif(score>=70):\n",
        "  print('C')\n",
        "elif(score>=60):\n",
        "  print('D')\n",
        "else:\n",
        "  print('E')"
      ],
      "metadata": {
        "colab": {
          "base_uri": "https://localhost:8080/",
          "height": 0
        },
        "id": "NLMznh5MA0ZR",
        "outputId": "1cc79151-8e74-4b1e-bca2-32c4dc7d2594"
      },
      "execution_count": 12,
      "outputs": [
        {
          "output_type": "stream",
          "name": "stdout",
          "text": [
            "請輸入成績70\n",
            "C\n"
          ]
        }
      ]
    },
    {
      "cell_type": "code",
      "source": [
        "score=int(input('請輸入成績'))\n",
        "if(score>=90):\n",
        "  print('A')\n",
        "elif(score>=80):\n",
        "  print('B')\n",
        "elif(score>=70):\n",
        "  print('C')\n",
        "elif(score>=60):\n",
        "  print('D')\n",
        "else:\n",
        "  print('E')"
      ],
      "metadata": {
        "colab": {
          "base_uri": "https://localhost:8080/",
          "height": 0
        },
        "id": "nYTjmaN7A0iS",
        "outputId": "d4da62f3-bc50-465a-a0f8-20583bfd9dc3"
      },
      "execution_count": 13,
      "outputs": [
        {
          "output_type": "stream",
          "name": "stdout",
          "text": [
            "請輸入成績60\n",
            "D\n"
          ]
        }
      ]
    },
    {
      "cell_type": "code",
      "source": [
        "score=int(input('請輸入成績'))\n",
        "if(score>=90):\n",
        "  print('A')\n",
        "elif(score>=80):\n",
        "  print('B')\n",
        "elif(score>=70):\n",
        "  print('C')\n",
        "elif(score>=60):\n",
        "  print('D')\n",
        "else:\n",
        "  print('E')"
      ],
      "metadata": {
        "colab": {
          "base_uri": "https://localhost:8080/",
          "height": 0
        },
        "id": "oYeh4B7wA1P-",
        "outputId": "ff282af2-67bc-451d-f0a8-2382809e1a30"
      },
      "execution_count": 14,
      "outputs": [
        {
          "output_type": "stream",
          "name": "stdout",
          "text": [
            "請輸入成績59\n",
            "E\n"
          ]
        }
      ]
    },
    {
      "cell_type": "code",
      "source": [
        "money=int(input('請輸入購物金額'))\n",
        "if(money>=10000):\n",
        "  if(money>=100000):\n",
        "    print(\"八折\",money*0.8,end='元\\n')\n",
        "  elif(money>=50000):\n",
        "   print(\"八五折\",money*0.85,end='元\\n')\n",
        "  elif(money>=30000):\n",
        "   print(\"九折\",money*0.9,end='元\\n')\n",
        "  else:\n",
        "   print(\"九五折\",money*0.95,end='元\\n')\n",
        "else:\n",
        "  print(\"沒打折\",money,end='元\\n')"
      ],
      "metadata": {
        "colab": {
          "base_uri": "https://localhost:8080/"
        },
        "id": "zGWWNIYZA1dn",
        "outputId": "1321432e-f28e-4d8f-e6c7-37ce6c58b31b"
      },
      "execution_count": 32,
      "outputs": [
        {
          "output_type": "stream",
          "name": "stdout",
          "text": [
            "請輸入購物金額100000\n",
            "八折 80000.0元\n"
          ]
        }
      ]
    },
    {
      "cell_type": "code",
      "source": [
        "money=int(input('請輸入購物金額'))\n",
        "if(money>=10000):\n",
        "  if(money>=100000):\n",
        "    print(\"八折\",money*0.8,end='元\\n')\n",
        "  elif(money>=50000):\n",
        "   print(\"八五折\",money*0.85,end='元\\n')\n",
        "  elif(money>=30000):\n",
        "   print(\"九折\",money*0.9,end='元\\n')\n",
        "  else:\n",
        "   print(\"九五折\",money*0.95,end='元\\n')\n",
        "else:\n",
        "  print(\"沒打折\",money,end='元\\n')"
      ],
      "metadata": {
        "colab": {
          "base_uri": "https://localhost:8080/"
        },
        "id": "IiYz1QFbA1o1",
        "outputId": "7f02b441-8577-4b07-dfcf-92e038c34235"
      },
      "execution_count": 31,
      "outputs": [
        {
          "output_type": "stream",
          "name": "stdout",
          "text": [
            "請輸入購物金額50000\n",
            "八五折 42500.0元\n"
          ]
        }
      ]
    },
    {
      "cell_type": "code",
      "source": [
        "money=int(input('請輸入購物金額'))\n",
        "if(money>=10000):\n",
        "  if(money>=100000):\n",
        "    print(\"八折\",money*0.8,end='元\\n')\n",
        "  elif(money>=50000):\n",
        "   print(\"八五折\",money*0.85,end='元\\n')\n",
        "  elif(money>=30000):\n",
        "   print(\"九折\",money*0.9,end='元\\n')\n",
        "  else:\n",
        "   print(\"九五折\",money*0.95,end='元\\n')\n",
        "else:\n",
        "  print(\"沒打折\",money,end='元\\n')"
      ],
      "metadata": {
        "colab": {
          "base_uri": "https://localhost:8080/"
        },
        "id": "Ayai8nvRGJWZ",
        "outputId": "d47aeb2d-e70d-49a1-a631-1648eb897f8e"
      },
      "execution_count": 29,
      "outputs": [
        {
          "output_type": "stream",
          "name": "stdout",
          "text": [
            "請輸入購物金額30000\n",
            "九折 27000.0元\n"
          ]
        }
      ]
    },
    {
      "cell_type": "code",
      "source": [
        "money=int(input('請輸入購物金額'))\n",
        "if(money>=10000):\n",
        "  if(money>=100000):\n",
        "    print(\"八折\",money*0.8,end='元\\n')\n",
        "  elif(money>=50000):\n",
        "    print(\"八五折\",money*0.85,end='元\\n')\n",
        "  elif(money>=30000):\n",
        "    print(\"九折\",money*0.9,end='元\\n')\n",
        "  else:\n",
        "    print(\"九五折\",money*0.95,end='元\\n')\n",
        "else:\n",
        "  print(\"沒打折\",money,end='元\\n')"
      ],
      "metadata": {
        "colab": {
          "base_uri": "https://localhost:8080/"
        },
        "id": "XbN4pV6oGJfo",
        "outputId": "ba547943-2e91-4369-ce22-5f806148ee37"
      },
      "execution_count": 30,
      "outputs": [
        {
          "output_type": "stream",
          "name": "stdout",
          "text": [
            "請輸入購物金額20000\n",
            "九五折 19000.0元\n"
          ]
        }
      ]
    },
    {
      "cell_type": "code",
      "source": [
        "money=int(input('請輸入購物金額'))\n",
        "if(money>=10000):\n",
        "  if(money>=100000):\n",
        "    print(\"八折\",money*0.8,end='元\\n')\n",
        "  elif(money>=50000):\n",
        "   print(\"八五折\",money*0.85,end='元\\n')\n",
        "  elif(score>=30000):\n",
        "   print(\"九折\",money*0.9,end='元\\n')\n",
        "  else:\n",
        "   print(\"九五折\",money*0.95,end='元\\n')\n",
        "else:\n",
        "  print(\"沒打折\",money,end='元\\n')"
      ],
      "metadata": {
        "colab": {
          "base_uri": "https://localhost:8080/"
        },
        "id": "9F7z8AJhGJo4",
        "outputId": "79b2e8b0-0b2d-4de0-bf4f-d1a7594d5d8e"
      },
      "execution_count": 20,
      "outputs": [
        {
          "output_type": "stream",
          "name": "stdout",
          "text": [
            "請輸入購物金額9000\n",
            "沒打折 9000元\n"
          ]
        }
      ]
    },
    {
      "cell_type": "code",
      "source": [
        ""
      ],
      "metadata": {
        "id": "tglmnGheGJxu"
      },
      "execution_count": null,
      "outputs": []
    }
  ]
}